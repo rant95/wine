{
  "nbformat": 4,
  "nbformat_minor": 0,
  "metadata": {
    "colab": {
      "name": "Prediction Wine of quality.ipynb",
      "provenance": [],
      "include_colab_link": true
    },
    "kernelspec": {
      "name": "python3",
      "display_name": "Python 3"
    }
  },
  "cells": [
    {
      "cell_type": "markdown",
      "metadata": {
        "id": "view-in-github",
        "colab_type": "text"
      },
      "source": [
        "<a href=\"https://colab.research.google.com/github/rant95/wine/blob/master/Prediction_Wine_of_quality.ipynb\" target=\"_parent\"><img src=\"https://colab.research.google.com/assets/colab-badge.svg\" alt=\"Open In Colab\"/></a>"
      ]
    },
    {
      "cell_type": "markdown",
      "metadata": {
        "id": "02hyCblaaiPq"
      },
      "source": [
        "# Prediction Wine of quality\n",
        "\n",
        "\n",
        "---\n",
        "Lova Rant.\n",
        "\n",
        "\n",
        "---\n",
        "Febr 2019\n"
      ]
    },
    {
      "cell_type": "code",
      "metadata": {
        "id": "cA1SdURCyioT",
        "outputId": "7af078f4-7c15-4ed9-fc57-9295625f2668",
        "colab": {
          "base_uri": "https://localhost:8080/"
        }
      },
      "source": [
        "from google.colab import drive\n",
        "drive.mount('/content/drive')"
      ],
      "execution_count": null,
      "outputs": [
        {
          "output_type": "stream",
          "name": "stdout",
          "text": [
            "Mounted at /content/drive\n"
          ]
        }
      ]
    },
    {
      "cell_type": "markdown",
      "metadata": {
        "id": "tcjYqWlsywKT"
      },
      "source": [
        "# Introduction\n",
        "\n",
        "L'objectif est de déterminer la qualité d’un vin (de 0 = très mauvais à 10 = exceptionnel) à partir de mesures physico-chimiques.\n",
        "\n",
        "Détails : *http://archive.ics.uci.edu/ml/datasets/Wine+Quality*\n",
        "\n",
        "On part du principe que si deux vins différents ont la même composition, leurs qualités gustatives seront identiques. Dans la base de données il y a 6 400 vins rouges et blancs provenant du Portugal. Si un vin inconnu a une composition identique à l’un des 6400 vins répertoriés, on peut supposer qu’il obtiendra la même note.\n",
        "\n",
        "Avec les algorithmes d'apprentissage utilisés en RCP209, je vais proposer une façon de construire une note pour une composition nouvelle. Je vais donc faire une prédiction et avec le savoir accumulé sur 6400 vins, je vais tenter de prédire ou estimer la note.\n",
        "\n",
        "Voici le jeu de données qui contient 6497 vins et 13 variables dont 1 variables quantitative illustrative et 1 variables qualitative illustrative."
      ]
    },
    {
      "cell_type": "code",
      "metadata": {
        "id": "pgg4WYPtyu8d"
      },
      "source": [
        "#Importing required packages.\n",
        "import pandas as pd\n",
        "import seaborn as sns\n",
        "import matplotlib.pyplot as plt\n",
        "\n",
        "from sklearn.svm import SVC\n",
        "from sklearn.linear_model import SGDClassifier\n",
        "from sklearn.metrics import confusion_matrix, classification_report\n",
        "from sklearn.preprocessing import StandardScaler, LabelEncoder\n",
        "from sklearn.model_selection import train_test_split, GridSearchCV, cross_val_score\n",
        "from sklearn import metrics\n",
        "import numpy as np\n",
        "import imp\n",
        "from sklearn.neighbors import KNeighborsRegressor\n",
        "from sklearn.decomposition import PCA\n",
        "from sklearn.preprocessing import normalize\n",
        "import matplotlib.colors as colors\n",
        "import matplotlib.cm as cmx\n",
        "from sklearn.linear_model import LogisticRegression\n",
        "from sklearn.metrics import confusion_matrix, accuracy_score\n",
        "\n",
        "from sklearn.ensemble import RandomForestClassifier\n",
        "from sklearn.svm import SVC\n",
        "from sklearn.metrics import confusion_matrix, classification_report\n",
        "from sklearn.model_selection import train_test_split, GridSearchCV, cross_val_score, RandomizedSearchCV\n",
        "\n",
        "from scipy.stats import uniform\n",
        "from scipy.stats import norm\n",
        "import encodings\n"
      ],
      "execution_count": null,
      "outputs": []
    },
    {
      "cell_type": "markdown",
      "metadata": {
        "id": "C_7zN_6R0K8m"
      },
      "source": [
        "#1.Import the dataset"
      ]
    },
    {
      "cell_type": "code",
      "metadata": {
        "id": "5T9Wca7K0A97",
        "outputId": "275c9d5f-e0e8-4f07-d80c-027489518349",
        "colab": {
          "base_uri": "https://localhost:8080/"
        }
      },
      "source": [
        "# import the dataset\n",
        "\n",
        "df_red = pd.read_csv('/content/drive/My Drive/Colab Notebooks/Wine/winequality-red.csv', sep=';')\n",
        "\n",
        "df_red.head(10)\n",
        "df_red.describe()\n",
        "\n",
        "df_white = pd.read_csv('/content/drive/My Drive/Colab Notebooks/Wine/winequality-white.csv', sep=';')\n",
        "df_white.info()\n",
        "df_white.head(10)\n",
        "df_white.describe()\n",
        "\n",
        "df_white['color'] = \"W\"\n",
        "\n",
        "df_red['color'] = \"R\"\n",
        "df = pd.concat([df_red, df_white])\n",
        "df.head(10)\n",
        "df[\"color\"].value_counts() "
      ],
      "execution_count": null,
      "outputs": [
        {
          "output_type": "stream",
          "name": "stdout",
          "text": [
            "<class 'pandas.core.frame.DataFrame'>\n",
            "RangeIndex: 4898 entries, 0 to 4897\n",
            "Data columns (total 12 columns):\n",
            " #   Column                Non-Null Count  Dtype  \n",
            "---  ------                --------------  -----  \n",
            " 0   fixed acidity         4898 non-null   float64\n",
            " 1   volatile acidity      4898 non-null   float64\n",
            " 2   citric acid           4898 non-null   float64\n",
            " 3   residual sugar        4898 non-null   float64\n",
            " 4   chlorides             4898 non-null   float64\n",
            " 5   free sulfur dioxide   4898 non-null   float64\n",
            " 6   total sulfur dioxide  4898 non-null   float64\n",
            " 7   density               4898 non-null   float64\n",
            " 8   pH                    4898 non-null   float64\n",
            " 9   sulphates             4898 non-null   float64\n",
            " 10  alcohol               4898 non-null   float64\n",
            " 11  quality               4898 non-null   int64  \n",
            "dtypes: float64(11), int64(1)\n",
            "memory usage: 459.3 KB\n"
          ]
        },
        {
          "output_type": "execute_result",
          "data": {
            "text/plain": [
              "W    4898\n",
              "R    1599\n",
              "Name: color, dtype: int64"
            ]
          },
          "metadata": {},
          "execution_count": 3
        }
      ]
    },
    {
      "cell_type": "code",
      "metadata": {
        "id": "LZHtUCt70BjJ",
        "outputId": "c023b7a5-55bc-4a8d-bcff-aa5aee28bf7c",
        "colab": {
          "base_uri": "https://localhost:8080/"
        }
      },
      "source": [
        "\n",
        "vins=df\n",
        "\n",
        "print(vins.describe())\n",
        "\n",
        "X = vins.drop(['quality','color'],axis=1)\n",
        "Y = vins['quality']\n",
        "\n",
        "\n",
        "vins[\"color\"].value_counts()\n",
        "\n",
        "print(len(vins[vins.color == 'W']), \"vins Blanc\")\n",
        "print(len(vins[vins.color == 'R']), \"vins Rouge\")"
      ],
      "execution_count": null,
      "outputs": [
        {
          "output_type": "stream",
          "name": "stdout",
          "text": [
            "       fixed acidity  volatile acidity  citric acid  residual sugar  \\\n",
            "count    6497.000000       6497.000000  6497.000000     6497.000000   \n",
            "mean        7.215307          0.339666     0.318633        5.443235   \n",
            "std         1.296434          0.164636     0.145318        4.757804   \n",
            "min         3.800000          0.080000     0.000000        0.600000   \n",
            "25%         6.400000          0.230000     0.250000        1.800000   \n",
            "50%         7.000000          0.290000     0.310000        3.000000   \n",
            "75%         7.700000          0.400000     0.390000        8.100000   \n",
            "max        15.900000          1.580000     1.660000       65.800000   \n",
            "\n",
            "         chlorides  free sulfur dioxide  total sulfur dioxide      density  \\\n",
            "count  6497.000000          6497.000000           6497.000000  6497.000000   \n",
            "mean      0.056034            30.525319            115.744574     0.994697   \n",
            "std       0.035034            17.749400             56.521855     0.002999   \n",
            "min       0.009000             1.000000              6.000000     0.987110   \n",
            "25%       0.038000            17.000000             77.000000     0.992340   \n",
            "50%       0.047000            29.000000            118.000000     0.994890   \n",
            "75%       0.065000            41.000000            156.000000     0.996990   \n",
            "max       0.611000           289.000000            440.000000     1.038980   \n",
            "\n",
            "                pH    sulphates      alcohol      quality  \n",
            "count  6497.000000  6497.000000  6497.000000  6497.000000  \n",
            "mean      3.218501     0.531268    10.491801     5.818378  \n",
            "std       0.160787     0.148806     1.192712     0.873255  \n",
            "min       2.720000     0.220000     8.000000     3.000000  \n",
            "25%       3.110000     0.430000     9.500000     5.000000  \n",
            "50%       3.210000     0.510000    10.300000     6.000000  \n",
            "75%       3.320000     0.600000    11.300000     6.000000  \n",
            "max       4.010000     2.000000    14.900000     9.000000  \n",
            "4898 vins Blanc\n",
            "1599 vins Rouge\n"
          ]
        }
      ]
    },
    {
      "cell_type": "markdown",
      "metadata": {
        "id": "stEyPEpX0pzL"
      },
      "source": [
        "On dispose de plusieurs milliers de notes données par des experts à des milliers de vins dont on connaît les mêmes 12 informations sur leur composition, ci-dessous, pour deux vins.\n",
        "Comme nous avons beaucoup de vins du très bon aux très mauvais, nous allons vérifier si les notes sont distribuées de façon non uniforme.\n",
        "\n",
        "#2.Distribution des notes des vins"
      ]
    },
    {
      "cell_type": "code",
      "metadata": {
        "id": "acZIOBKt0B0g",
        "outputId": "e861e86c-980d-4125-b453-1bc6eb803b0b",
        "colab": {
          "base_uri": "https://localhost:8080/",
          "height": 281
        }
      },
      "source": [
        "\n",
        "plt.close('all')\n",
        "#plt.style.use('ggplot')\n",
        "fig, ax = plt.subplots(nrows=1, ncols=1, figsize=(10,4))\n",
        "vins.quality.hist(bins=18, ax=ax)\n",
        "plt.title('Distribution des notes des vins')\n",
        "plt.show()"
      ],
      "execution_count": null,
      "outputs": [
        {
          "output_type": "display_data",
          "data": {
            "text/plain": [
              "<Figure size 720x288 with 1 Axes>"
            ],
            "image/png": "[encoded data removed]"
          },
          "metadata": {
            "needs_background": "light"
          }
        }
      ]
    },
    {
      "cell_type": "markdown",
      "metadata": {
        "id": "mBZWdNOt01Q7"
      },
      "source": [
        "Les vins avec une note de 3 et 9 sont peu représentés avec seulement 5-10 echantillions, ce qui risque de poser un peu de problème de sur apprentissage.\n",
        "\n",
        "Nous examiner les caractéristiques des variables et surtout les relations entre ces variables. Pour cela on utilise une méthode d”analyse factorielle pour mettre en évidence des relations entre les variables quantitatives (mesures physico-chimique) et la variable quantitative illustrative \"quality\".\n",
        "\n",
        "Nous allons lancer une analyse en composante principale (ACP) pour représenter un ensemble de points dans un espace de dimension.\n",
        "## Analyse en composante principale ACP"
      ]
    },
    {
      "cell_type": "code",
      "metadata": {
        "id": "l2dPJ7x00CJR",
        "outputId": "a489c6e4-b513-4ab2-d442-478d5f617537",
        "colab": {
          "base_uri": "https://localhost:8080/",
          "height": 223
        }
      },
      "source": [
        "pca = PCA(n_components=5)\n",
        "Xn = normalize(X)\n",
        "pca.fit(Xn)\n",
        "\n",
        "PCA(copy=True, iterated_power='auto', n_components=5, random_state=None,svd_solver='auto', tol=0.0, whiten=False)\n",
        "\n",
        "\n",
        "eig = pd.DataFrame(dict(valeur=pca.explained_variance_ratio_))\n",
        "ax = eig.plot(kind='bar', figsize=(3,3))\n",
        "ax.set_title(\"Valeur propres de l'ACP apres normalisation\");\n",
        "plt.show()"
      ],
      "execution_count": null,
      "outputs": [
        {
          "output_type": "display_data",
          "data": {
            "text/plain": [
              "<Figure size 216x216 with 1 Axes>"
            ],
            "image/png": "[encoded data removed]"
          },
          "metadata": {
            "needs_background": "light"
          }
        }
      ]
    },
    {
      "cell_type": "markdown",
      "metadata": {
        "id": "TDGq58MT268U"
      },
      "source": [
        "Nous avons les 2 premiers axes qui regroupent plus de 90% des informations.\n",
        "Regardons les coordonnées du premier v1 et deuxième v2 axe."
      ]
    },
    {
      "cell_type": "code",
      "metadata": {
        "id": "SX11QF3c08Ib",
        "outputId": "fd781c0b-5eeb-4b3b-deeb-59c3b23a820f",
        "colab": {
          "base_uri": "https://localhost:8080/",
          "height": 365
        }
      },
      "source": [
        "v2 = pd.DataFrame(pca.components_[0:2,:]).T\n",
        "v2.index = vins.columns[:-2]\n",
        "v2.columns = ['v1', 'v2']\n",
        "\n",
        "ax = v2.plot(y=['v1', 'v2'], kind='bar', figsize=(10,4))\n",
        "ax.legend(loc='upper left')\n",
        "ax.set_title(\"Comparaison des coordonnees des deux premiers axes de l ACP\")\n",
        "\n",
        "\n",
        "plt.show()"
      ],
      "execution_count": null,
      "outputs": [
        {
          "output_type": "display_data",
          "data": {
            "text/plain": [
              "<Figure size 720x288 with 1 Axes>"
            ],
            "image/png": "[encoded data removed]"
          },
          "metadata": {
            "needs_background": "light"
          }
        }
      ]
    },
    {
      "cell_type": "markdown",
      "metadata": {
        "id": "BrxegbDH3CmF"
      },
      "source": [
        "On remarque que l’alcool, l’acidité, le dioxyde, le pH semble jouer un rôle plus grand que les autres variables"
      ]
    },
    {
      "cell_type": "code",
      "metadata": {
        "id": "NodOAi8w08c8",
        "outputId": "2e8c2f38-29f1-4aae-d137-72ab8739976a",
        "colab": {
          "base_uri": "https://localhost:8080/",
          "height": 274
        }
      },
      "source": [
        "proj = pca.transform(Xn)\n",
        "\n",
        "pl = pd.DataFrame(proj[:, :3])\n",
        "pl.columns = ['v1', 'v2', 'v3']\n",
        "wine = pd.read_csv('/content/drive/My Drive/Colab Notebooks/Wine/vinsquality.csv', sep=';')\n",
        "pl['quality'] = wine['quality']\n",
        "pl['color'] = wine['color']\n",
        "\n",
        "#Premier graphe selon les couleurs.\n",
        "\n",
        "ax = sns.lmplot(x=\"v1\", y=\"v2\", hue=\"color\", truncate=True, data=pl, scatter_kws={\"s\": 1}, fit_reg=False, size=3)\n",
        "ax.ax.set_title(\"Projection des vins sur les deux premiers axes de l ACP\");\n",
        "\n",
        "plt.show()"
      ],
      "execution_count": null,
      "outputs": [
        {
          "output_type": "stream",
          "name": "stderr",
          "text": [
            "/usr/local/lib/python3.7/dist-packages/seaborn/regression.py:581: UserWarning: The `size` parameter has been renamed to `height`; please update your code.\n",
            "  warnings.warn(msg, UserWarning)\n"
          ]
        },
        {
          "output_type": "display_data",
          "data": {
            "text/plain": [
              "<Figure size 279.375x216 with 1 Axes>"
            ],
            "image/png": "[encoded data removed]"
          },
          "metadata": {
            "needs_background": "light"
          }
        }
      ]
    },
    {
      "cell_type": "markdown",
      "metadata": {
        "id": "TfVvN1tT3HEN"
      },
      "source": [
        "Avec l'ACP on remarque avec le grahe que les vins blancs et rouges pourraient être différents chimiquement et qu'il y a une frontière entre les vins. Il est donc possible de prédire la couleur en fonction des données disponibles dans ce jeu de données via une classification. Cependant ce n'est pas l'objectif de se projet.\n",
        "\n",
        "On représente maintenant les notes des vins.\n",
        "##Représentations des notes des vins."
      ]
    },
    {
      "cell_type": "code",
      "metadata": {
        "id": "qbr_kjV33HYV",
        "outputId": "d84bbe8f-d9f9-476f-b404-23dd5df8b8c4",
        "colab": {
          "base_uri": "https://localhost:8080/",
          "height": 295
        }
      },
      "source": [
        "fig, axs = plt.subplots(1, 3, figsize=(12,4))\n",
        "red = pl[pl.color == 'red']\n",
        "white = pl[pl.color == 'white']\n",
        "\n",
        "# Choisir un dégragé ici\n",
        "cmap = plt.get_cmap('plasma')\n",
        "cnorm = colors.Normalize(vmin=pl['quality'].min(), vmax=pl['quality'].max())\n",
        "scalar = cmx.ScalarMappable(norm=cnorm, cmap=cmap)\n",
        "\n",
        "for i, data, title in [(0, pl, 'tous'), (1, red, 'red'), (2, white, 'white')]:\n",
        "    ax = axs[i]\n",
        "    # On trace les points pour que le texte n'apparaissent pas en dehors des zones\n",
        "    pl.plot(x='v1', y='v2', kind='scatter', color=\"white\", ax=ax)\n",
        "\n",
        "    for note in sorted(set(data['quality'])):\n",
        "        sub = data[data.quality == note]\n",
        "        if sub.shape[0] > 100:\n",
        "            sub = sub.sample(n=30)\n",
        "\n",
        "        color = scalar.to_rgba(note)\n",
        "        for i, row in enumerate(sub.itertuples()):\n",
        "            ax.text(row[1], row[2], str(row[4]), color=color)\n",
        "    ax.set_title(title);\n",
        "    \n",
        "    \n",
        "plt.show()  "
      ],
      "execution_count": null,
      "outputs": [
        {
          "output_type": "display_data",
          "data": {
            "text/plain": [
              "<Figure size 864x288 with 3 Axes>"
            ],
            "image/png": "[encoded data removed]"
          },
          "metadata": {
            "needs_background": "light"
          }
        }
      ]
    },
    {
      "cell_type": "markdown",
      "metadata": {
        "id": "Wcvqy-2j3yEk"
      },
      "source": [
        "Les vins rouges et blancs apparaissent comme très différents, cela vaudra sans doute le coup de faire deux modèles si la performance n’est pas assez bonne. Les bonnes notes ne se détache pas particulièremnt sur ces graphes. Le problème est peut-être simple mais ce ne sont pas ces graphes qui vont nous le dire.\n",
        "\n",
        "Nous allons voir plus en détails les relations entre les variables avec une analyse plus poussée de l'ACP via la programation sur R en annexe.\n",
        "\n",
        "\n",
        "Maintenant on va choisir quel algorithme est le plus précis pour prédire la note d'un vin. Nous allons tester 6 algorithmes pour avoir la meilleure prédiction possible.\n",
        "\n",
        "\n",
        "*1.Random Forests*\n",
        "\n",
        "*2.Logistic Regression*\n",
        "\n",
        "*3.Stochastic Gradient Decent Classifier*\n",
        "\n",
        "*4.Decision Trees*\n",
        "\n",
        "*5.SVM*\n",
        "\n",
        "*6.Plus proche voisins knn*\n",
        "\n",
        "\n",
        "\n",
        "\n",
        "Voici les algorithmes que nous allons tester avec des hyperparametres par défaut.\n",
        "\n",
        "#3.Les modèles d'algorithmes\n",
        "\n",
        "\n",
        "## Découpage des jeux de données training et Testing"
      ]
    },
    {
      "cell_type": "code",
      "metadata": {
        "id": "AKM7t9rY3Hpl"
      },
      "source": [
        "#Now seperate the dataset as response variable and feature variabes\n",
        "X = vins.drop(['quality','color'], axis = 1)\n",
        "y = vins['quality']\n",
        "\n",
        "#Train and Test splitting of data\n",
        "X_train, X_test, y_train, y_test = train_test_split(X, y, test_size = 0.2, random_state = 42)\n",
        "#Applying Standard scaling to get optimized result\n",
        "sc = StandardScaler()\n",
        "\n",
        "X_train = sc.fit_transform(X_train)\n",
        "X_test = sc.fit_transform(X_test)"
      ],
      "execution_count": null,
      "outputs": []
    },
    {
      "cell_type": "markdown",
      "metadata": {
        "id": "3prXa6-b3_W7"
      },
      "source": [
        "Nous allons d'abord diviser les données en deux. 80% de des données iront dans la partie training pour entrainer le modèle et les 20% restants des données iront dans la partie test pour la validation  du modèle.\n",
        "# Classification"
      ]
    },
    {
      "cell_type": "markdown",
      "source": [
        "## 1.Random Forest Classifier"
      ],
      "metadata": {
        "id": "0q11WbUggt_4"
      }
    },
    {
      "cell_type": "code",
      "metadata": {
        "id": "Q_203pAu3H4M",
        "outputId": "cf909102-01da-4770-ab74-07c9989340c7",
        "colab": {
          "base_uri": "https://localhost:8080/"
        }
      },
      "source": [
        "rfc = RandomForestClassifier()\n",
        "rfc.fit(X_train, y_train)\n",
        "pred_rfc = rfc.predict(X_test)\n",
        "\n",
        "#Let's see how our model performed\n",
        "print(classification_report(y_test, pred_rfc))\n",
        "print (\"Overall Accuracy:\", round(metrics.accuracy_score(y_test, pred_rfc), 3))\n",
        "rfc_defaut=round(metrics.accuracy_score(y_test, pred_rfc), 3)"
      ],
      "execution_count": null,
      "outputs": [
        {
          "output_type": "stream",
          "name": "stdout",
          "text": [
            "              precision    recall  f1-score   support\n",
            "\n",
            "           3       0.00      0.00      0.00         6\n",
            "           4       0.80      0.09      0.17        43\n",
            "           5       0.67      0.72      0.69       402\n",
            "           6       0.65      0.76      0.70       597\n",
            "           7       0.72      0.51      0.60       215\n",
            "           8       0.92      0.33      0.49        36\n",
            "           9       0.00      0.00      0.00         1\n",
            "\n",
            "    accuracy                           0.67      1300\n",
            "   macro avg       0.54      0.35      0.38      1300\n",
            "weighted avg       0.68      0.67      0.66      1300\n",
            "\n",
            "Overall Accuracy: 0.669\n"
          ]
        },
        {
          "output_type": "stream",
          "name": "stderr",
          "text": [
            "/usr/local/lib/python3.7/dist-packages/sklearn/metrics/_classification.py:1318: UndefinedMetricWarning: Precision and F-score are ill-defined and being set to 0.0 in labels with no predicted samples. Use `zero_division` parameter to control this behavior.\n",
            "  _warn_prf(average, modifier, msg_start, len(result))\n",
            "/usr/local/lib/python3.7/dist-packages/sklearn/metrics/_classification.py:1318: UndefinedMetricWarning: Precision and F-score are ill-defined and being set to 0.0 in labels with no predicted samples. Use `zero_division` parameter to control this behavior.\n",
            "  _warn_prf(average, modifier, msg_start, len(result))\n",
            "/usr/local/lib/python3.7/dist-packages/sklearn/metrics/_classification.py:1318: UndefinedMetricWarning: Precision and F-score are ill-defined and being set to 0.0 in labels with no predicted samples. Use `zero_division` parameter to control this behavior.\n",
            "  _warn_prf(average, modifier, msg_start, len(result))\n"
          ]
        }
      ]
    },
    {
      "cell_type": "markdown",
      "metadata": {
        "id": "kyMaUoov4P2j"
      },
      "source": [
        "## 2.Logistic Regression"
      ]
    },
    {
      "cell_type": "code",
      "metadata": {
        "id": "UKU_SNij4ABK",
        "outputId": "4b629434-47f7-4d2a-b705-fd752908bdee",
        "colab": {
          "base_uri": "https://localhost:8080/"
        }
      },
      "source": [
        "lr = LogisticRegression()\n",
        "lr.fit(X_train, y_train)\n",
        "pred_lr = lr.predict(X_test)\n",
        "#Let's see how our model performed\n",
        "print(classification_report(y_test, pred_lr))\n",
        "print (\"Overall Accuracy:\", round(metrics.accuracy_score(y_test, pred_lr), 3))"
      ],
      "execution_count": null,
      "outputs": [
        {
          "output_type": "stream",
          "name": "stdout",
          "text": [
            "              precision    recall  f1-score   support\n",
            "\n",
            "           3       1.00      0.17      0.29         6\n",
            "           4       0.00      0.00      0.00        43\n",
            "           5       0.53      0.60      0.56       402\n",
            "           6       0.54      0.69      0.60       597\n",
            "           7       0.52      0.20      0.29       215\n",
            "           8       0.00      0.00      0.00        36\n",
            "           9       0.00      0.00      0.00         1\n",
            "\n",
            "    accuracy                           0.53      1300\n",
            "   macro avg       0.37      0.24      0.25      1300\n",
            "weighted avg       0.50      0.53      0.50      1300\n",
            "\n",
            "Overall Accuracy: 0.534\n"
          ]
        },
        {
          "output_type": "stream",
          "name": "stderr",
          "text": [
            "/usr/local/lib/python3.7/dist-packages/sklearn/linear_model/_logistic.py:818: ConvergenceWarning: lbfgs failed to converge (status=1):\n",
            "STOP: TOTAL NO. of ITERATIONS REACHED LIMIT.\n",
            "\n",
            "Increase the number of iterations (max_iter) or scale the data as shown in:\n",
            "    https://scikit-learn.org/stable/modules/preprocessing.html\n",
            "Please also refer to the documentation for alternative solver options:\n",
            "    https://scikit-learn.org/stable/modules/linear_model.html#logistic-regression\n",
            "  extra_warning_msg=_LOGISTIC_SOLVER_CONVERGENCE_MSG,\n",
            "/usr/local/lib/python3.7/dist-packages/sklearn/metrics/_classification.py:1318: UndefinedMetricWarning: Precision and F-score are ill-defined and being set to 0.0 in labels with no predicted samples. Use `zero_division` parameter to control this behavior.\n",
            "  _warn_prf(average, modifier, msg_start, len(result))\n",
            "/usr/local/lib/python3.7/dist-packages/sklearn/metrics/_classification.py:1318: UndefinedMetricWarning: Precision and F-score are ill-defined and being set to 0.0 in labels with no predicted samples. Use `zero_division` parameter to control this behavior.\n",
            "  _warn_prf(average, modifier, msg_start, len(result))\n",
            "/usr/local/lib/python3.7/dist-packages/sklearn/metrics/_classification.py:1318: UndefinedMetricWarning: Precision and F-score are ill-defined and being set to 0.0 in labels with no predicted samples. Use `zero_division` parameter to control this behavior.\n",
            "  _warn_prf(average, modifier, msg_start, len(result))\n"
          ]
        }
      ]
    },
    {
      "cell_type": "markdown",
      "metadata": {
        "id": "wOIAfJoR4RGL"
      },
      "source": [
        "## 3.Stochastic Gradient Decent Classifier"
      ]
    },
    {
      "cell_type": "code",
      "metadata": {
        "id": "FbFiT3J14ARy",
        "outputId": "353c4026-7cd0-4957-ac5d-bf27e4c18965",
        "colab": {
          "base_uri": "https://localhost:8080/"
        }
      },
      "source": [
        "\n",
        "sgd = SGDClassifier(penalty=None)\n",
        "sgd.fit(X_train, y_train)\n",
        "pred_sgd = sgd.predict(X_test)\n",
        "print(classification_report(y_test, pred_sgd))\n",
        "print (\"Overall Accuracy:\", round(metrics.accuracy_score(y_test, pred_sgd), 3))"
      ],
      "execution_count": null,
      "outputs": [
        {
          "output_type": "stream",
          "name": "stdout",
          "text": [
            "              precision    recall  f1-score   support\n",
            "\n",
            "           3       0.00      0.00      0.00         6\n",
            "           4       0.00      0.00      0.00        43\n",
            "           5       0.49      0.72      0.58       402\n",
            "           6       0.51      0.59      0.55       597\n",
            "           7       0.25      0.02      0.03       215\n",
            "           8       0.00      0.00      0.00        36\n",
            "           9       0.00      0.00      0.00         1\n",
            "\n",
            "    accuracy                           0.50      1300\n",
            "   macro avg       0.18      0.19      0.17      1300\n",
            "weighted avg       0.43      0.50      0.44      1300\n",
            "\n",
            "Overall Accuracy: 0.496\n"
          ]
        },
        {
          "output_type": "stream",
          "name": "stderr",
          "text": [
            "/usr/local/lib/python3.7/dist-packages/sklearn/metrics/_classification.py:1318: UndefinedMetricWarning: Precision and F-score are ill-defined and being set to 0.0 in labels with no predicted samples. Use `zero_division` parameter to control this behavior.\n",
            "  _warn_prf(average, modifier, msg_start, len(result))\n",
            "/usr/local/lib/python3.7/dist-packages/sklearn/metrics/_classification.py:1318: UndefinedMetricWarning: Precision and F-score are ill-defined and being set to 0.0 in labels with no predicted samples. Use `zero_division` parameter to control this behavior.\n",
            "  _warn_prf(average, modifier, msg_start, len(result))\n",
            "/usr/local/lib/python3.7/dist-packages/sklearn/metrics/_classification.py:1318: UndefinedMetricWarning: Precision and F-score are ill-defined and being set to 0.0 in labels with no predicted samples. Use `zero_division` parameter to control this behavior.\n",
            "  _warn_prf(average, modifier, msg_start, len(result))\n"
          ]
        }
      ]
    },
    {
      "cell_type": "markdown",
      "metadata": {
        "id": "eSlw79nd4R8L"
      },
      "source": [
        "## 4.Decision Trees"
      ]
    },
    {
      "cell_type": "code",
      "metadata": {
        "id": "6qJWjkzO4Afy",
        "outputId": "77b12e15-1816-4c12-dd7a-a0a22f3035a8",
        "colab": {
          "base_uri": "https://localhost:8080/"
        }
      },
      "source": [
        "from sklearn.tree import DecisionTreeClassifier\n",
        "dt = DecisionTreeClassifier()\n",
        "dt.fit(X_train,y_train)\n",
        "pred_dt = dt.predict(X_test)\n",
        "print(classification_report(y_test, pred_dt))\n",
        "print (\"Overall Accuracy:\", round(metrics.accuracy_score(y_test, pred_dt), 3))"
      ],
      "execution_count": null,
      "outputs": [
        {
          "output_type": "stream",
          "name": "stdout",
          "text": [
            "              precision    recall  f1-score   support\n",
            "\n",
            "           3       0.00      0.00      0.00         6\n",
            "           4       0.24      0.23      0.24        43\n",
            "           5       0.56      0.59      0.58       402\n",
            "           6       0.60      0.56      0.58       597\n",
            "           7       0.47      0.50      0.49       215\n",
            "           8       0.25      0.28      0.26        36\n",
            "           9       0.00      0.00      0.00         1\n",
            "\n",
            "    accuracy                           0.54      1300\n",
            "   macro avg       0.30      0.31      0.31      1300\n",
            "weighted avg       0.54      0.54      0.54      1300\n",
            "\n",
            "Overall Accuracy: 0.542\n"
          ]
        },
        {
          "output_type": "stream",
          "name": "stderr",
          "text": [
            "/usr/local/lib/python3.7/dist-packages/sklearn/metrics/_classification.py:1318: UndefinedMetricWarning: Precision and F-score are ill-defined and being set to 0.0 in labels with no predicted samples. Use `zero_division` parameter to control this behavior.\n",
            "  _warn_prf(average, modifier, msg_start, len(result))\n",
            "/usr/local/lib/python3.7/dist-packages/sklearn/metrics/_classification.py:1318: UndefinedMetricWarning: Precision and F-score are ill-defined and being set to 0.0 in labels with no predicted samples. Use `zero_division` parameter to control this behavior.\n",
            "  _warn_prf(average, modifier, msg_start, len(result))\n",
            "/usr/local/lib/python3.7/dist-packages/sklearn/metrics/_classification.py:1318: UndefinedMetricWarning: Precision and F-score are ill-defined and being set to 0.0 in labels with no predicted samples. Use `zero_division` parameter to control this behavior.\n",
            "  _warn_prf(average, modifier, msg_start, len(result))\n"
          ]
        }
      ]
    },
    {
      "cell_type": "markdown",
      "metadata": {
        "id": "FG7XERUT4fZM"
      },
      "source": [
        "## 5.SVM"
      ]
    },
    {
      "cell_type": "code",
      "metadata": {
        "id": "AaP32DV14AuC",
        "outputId": "8d64cdeb-54ca-4d44-d8c1-a910137cfb36",
        "colab": {
          "base_uri": "https://localhost:8080/"
        }
      },
      "source": [
        "svc = SVC()\n",
        "svc.fit(X_train, y_train)\n",
        "pred_svc = svc.predict(X_test)\n",
        "print(classification_report(y_test, pred_svc))\n",
        "print (\"Overall Accuracy:\", round(metrics.accuracy_score(y_test, pred_svc), 3))\n",
        "svc_defaut=round(metrics.accuracy_score(y_test, pred_svc), 3)"
      ],
      "execution_count": null,
      "outputs": [
        {
          "output_type": "stream",
          "name": "stdout",
          "text": [
            "              precision    recall  f1-score   support\n",
            "\n",
            "           3       0.00      0.00      0.00         6\n",
            "           4       0.00      0.00      0.00        43\n",
            "           5       0.58      0.65      0.61       402\n",
            "           6       0.55      0.72      0.62       597\n",
            "           7       0.61      0.19      0.29       215\n",
            "           8       0.00      0.00      0.00        36\n",
            "           9       0.00      0.00      0.00         1\n",
            "\n",
            "    accuracy                           0.56      1300\n",
            "   macro avg       0.25      0.22      0.22      1300\n",
            "weighted avg       0.53      0.56      0.52      1300\n",
            "\n",
            "Overall Accuracy: 0.562\n"
          ]
        },
        {
          "output_type": "stream",
          "name": "stderr",
          "text": [
            "/usr/local/lib/python3.7/dist-packages/sklearn/metrics/_classification.py:1318: UndefinedMetricWarning: Precision and F-score are ill-defined and being set to 0.0 in labels with no predicted samples. Use `zero_division` parameter to control this behavior.\n",
            "  _warn_prf(average, modifier, msg_start, len(result))\n",
            "/usr/local/lib/python3.7/dist-packages/sklearn/metrics/_classification.py:1318: UndefinedMetricWarning: Precision and F-score are ill-defined and being set to 0.0 in labels with no predicted samples. Use `zero_division` parameter to control this behavior.\n",
            "  _warn_prf(average, modifier, msg_start, len(result))\n",
            "/usr/local/lib/python3.7/dist-packages/sklearn/metrics/_classification.py:1318: UndefinedMetricWarning: Precision and F-score are ill-defined and being set to 0.0 in labels with no predicted samples. Use `zero_division` parameter to control this behavior.\n",
            "  _warn_prf(average, modifier, msg_start, len(result))\n"
          ]
        }
      ]
    },
    {
      "cell_type": "markdown",
      "metadata": {
        "id": "_cMWMe3R4jqv"
      },
      "source": [
        "## 6.Plus proche voisins knn"
      ]
    },
    {
      "cell_type": "code",
      "metadata": {
        "id": "1mUcJX4p4j7N"
      },
      "source": [
        "knn = KNeighborsRegressor(n_neighbors=1)\n",
        "knn.fit(X_train, y_train)\n",
        "pred_knn = svc.predict(X_test)"
      ],
      "execution_count": null,
      "outputs": []
    },
    {
      "cell_type": "code",
      "metadata": {
        "id": "UiWK_JWN4kfm",
        "outputId": "f96f8792-9159-4484-adde-a26a3f76ab0e",
        "colab": {
          "base_uri": "https://localhost:8080/"
        }
      },
      "source": [
        "print(classification_report(y_test, pred_knn))\n",
        "print (\"Overall Accuracy:\", round(metrics.accuracy_score(y_test, pred_knn), 3))"
      ],
      "execution_count": null,
      "outputs": [
        {
          "output_type": "stream",
          "name": "stdout",
          "text": [
            "              precision    recall  f1-score   support\n",
            "\n",
            "           3       0.00      0.00      0.00         6\n",
            "           4       0.00      0.00      0.00        43\n",
            "           5       0.58      0.65      0.61       402\n",
            "           6       0.55      0.72      0.62       597\n",
            "           7       0.61      0.19      0.29       215\n",
            "           8       0.00      0.00      0.00        36\n",
            "           9       0.00      0.00      0.00         1\n",
            "\n",
            "    accuracy                           0.56      1300\n",
            "   macro avg       0.25      0.22      0.22      1300\n",
            "weighted avg       0.53      0.56      0.52      1300\n",
            "\n",
            "Overall Accuracy: 0.562\n"
          ]
        },
        {
          "output_type": "stream",
          "name": "stderr",
          "text": [
            "/usr/local/lib/python3.7/dist-packages/sklearn/metrics/_classification.py:1318: UndefinedMetricWarning: Precision and F-score are ill-defined and being set to 0.0 in labels with no predicted samples. Use `zero_division` parameter to control this behavior.\n",
            "  _warn_prf(average, modifier, msg_start, len(result))\n",
            "/usr/local/lib/python3.7/dist-packages/sklearn/metrics/_classification.py:1318: UndefinedMetricWarning: Precision and F-score are ill-defined and being set to 0.0 in labels with no predicted samples. Use `zero_division` parameter to control this behavior.\n",
            "  _warn_prf(average, modifier, msg_start, len(result))\n",
            "/usr/local/lib/python3.7/dist-packages/sklearn/metrics/_classification.py:1318: UndefinedMetricWarning: Precision and F-score are ill-defined and being set to 0.0 in labels with no predicted samples. Use `zero_division` parameter to control this behavior.\n",
            "  _warn_prf(average, modifier, msg_start, len(result))\n"
          ]
        }
      ]
    },
    {
      "cell_type": "markdown",
      "source": [
        "## 7.XGBoost"
      ],
      "metadata": {
        "id": "LDtPa95An7BV"
      }
    },
    {
      "cell_type": "code",
      "source": [
        "import xgboost as xgb\n",
        "from xgboost.sklearn import XGBClassifier\n",
        "\n",
        "\n",
        "cm = xgb.XGBClassifier(n_estimators = 1000)\n",
        "cm.fit(X_train, y_train)\n",
        "y_pred = cm.predict(X_test)\n"
      ],
      "metadata": {
        "id": "_zITdFVKn6jd"
      },
      "execution_count": null,
      "outputs": []
    },
    {
      "cell_type": "code",
      "source": [
        "print(classification_report(y_test, y_pred))\n",
        "print (\"Overall Accuracy:\", round(metrics.accuracy_score(y_test, y_pred), 3))"
      ],
      "metadata": {
        "colab": {
          "base_uri": "https://localhost:8080/"
        },
        "id": "nK4wKn0ftZ_c",
        "outputId": "a7484078-5ab3-48a5-ea8f-9135e8a4d328"
      },
      "execution_count": null,
      "outputs": [
        {
          "output_type": "stream",
          "name": "stdout",
          "text": [
            "              precision    recall  f1-score   support\n",
            "\n",
            "           3       0.00      0.00      0.00         6\n",
            "           4       0.15      0.05      0.07        43\n",
            "           5       0.59      0.61      0.60       402\n",
            "           6       0.58      0.67      0.62       597\n",
            "           7       0.51      0.40      0.45       215\n",
            "           8       0.45      0.14      0.21        36\n",
            "           9       0.00      0.00      0.00         1\n",
            "\n",
            "    accuracy                           0.57      1300\n",
            "   macro avg       0.33      0.27      0.28      1300\n",
            "weighted avg       0.55      0.57      0.55      1300\n",
            "\n",
            "Overall Accuracy: 0.567\n"
          ]
        },
        {
          "output_type": "stream",
          "name": "stderr",
          "text": [
            "/usr/local/lib/python3.7/dist-packages/sklearn/metrics/_classification.py:1318: UndefinedMetricWarning: Precision and F-score are ill-defined and being set to 0.0 in labels with no predicted samples. Use `zero_division` parameter to control this behavior.\n",
            "  _warn_prf(average, modifier, msg_start, len(result))\n",
            "/usr/local/lib/python3.7/dist-packages/sklearn/metrics/_classification.py:1318: UndefinedMetricWarning: Precision and F-score are ill-defined and being set to 0.0 in labels with no predicted samples. Use `zero_division` parameter to control this behavior.\n",
            "  _warn_prf(average, modifier, msg_start, len(result))\n",
            "/usr/local/lib/python3.7/dist-packages/sklearn/metrics/_classification.py:1318: UndefinedMetricWarning: Precision and F-score are ill-defined and being set to 0.0 in labels with no predicted samples. Use `zero_division` parameter to control this behavior.\n",
            "  _warn_prf(average, modifier, msg_start, len(result))\n"
          ]
        }
      ]
    },
    {
      "cell_type": "markdown",
      "metadata": {
        "id": "oc0V0wPM4kNJ"
      },
      "source": [
        "Nous avons trouver que l'algorithme le plus précis est les forets aléatoire avec 0.64% de précision. Puis nous avons les algorithmes arbre de décision, SVM et les plus proche voisins avec 0.56% de precision pour prédire les notes.\n",
        "Nous allons selectionner et valider les hyperparametres.\n",
        "\n",
        "\n",
        "#4.Selection/validation des hyperparameters\n",
        "\n",
        "\n",
        "## Hyperparameters pour les Forets aléatoires"
      ]
    },
    {
      "cell_type": "markdown",
      "source": [],
      "metadata": {
        "id": "7pXsv-btn36W"
      }
    },
    {
      "cell_type": "code",
      "metadata": {
        "id": "VTACm0mb41S2",
        "outputId": "9289d211-dec7-4a15-c3d4-957e549253a7",
        "colab": {
          "base_uri": "https://localhost:8080/"
        }
      },
      "source": [
        "# Designate distributions to sample hyperparameters from\n",
        "n_estimators = np.random.uniform(70, 80, 5).astype(int)\n",
        "max_features = np.random.normal(6, 3, 5).astype(int)\n",
        "\n",
        "# Check max_features>0 & max_features<=total number of features\n",
        "max_features[max_features <= 0] = 1\n",
        "max_features[max_features > X.shape[1]] = X.shape[1]\n",
        "\n",
        "hyperparameters = {'n_estimators': list(n_estimators),\n",
        "                   'max_features': list(max_features)}\n",
        "\n",
        "print (hyperparameters)"
      ],
      "execution_count": null,
      "outputs": [
        {
          "output_type": "stream",
          "name": "stdout",
          "text": [
            "{'n_estimators': [70, 78, 79, 72, 75], 'max_features': [2, 2, 1, 4, 5]}\n"
          ]
        }
      ]
    },
    {
      "cell_type": "markdown",
      "metadata": {
        "id": "kSHRZqN940ph"
      },
      "source": [
        "On va sélectionner ces hyperparametres pour l'optimisation de l'algorithme avec RandomizedSearchCV qui est plus rapide en execution que GridSearchCV.\n",
        "\n",
        "## Randomized search using cross-validation pour les Forets aléatoires"
      ]
    },
    {
      "cell_type": "code",
      "metadata": {
        "id": "wfPA7tYp4kud",
        "outputId": "6770a7f2-5eb3-4b7b-d2c6-bad4c1c52ce1",
        "colab": {
          "base_uri": "https://localhost:8080/"
        }
      },
      "source": [
        "# Run randomized search\n",
        "randomCV = RandomizedSearchCV(RandomForestClassifier(), param_distributions=hyperparameters, n_iter=20)\n",
        "randomCV.fit(X_train, y_train)\n",
        "\n",
        "# Identify optimal hyperparameter values\n",
        "best_n_estim      = randomCV.best_params_['n_estimators']\n",
        "best_max_features = randomCV.best_params_['max_features']\n",
        "\n",
        "print(\"The best performing n_estimators value is: {:5d}\".format(best_n_estim))\n",
        "print(\"The best performing max_features value is: {:5d}\".format(best_max_features))"
      ],
      "execution_count": null,
      "outputs": [
        {
          "output_type": "stream",
          "name": "stderr",
          "text": [
            "/usr/local/lib/python3.7/dist-packages/sklearn/model_selection/_split.py:680: UserWarning: The least populated class in y has only 4 members, which is less than n_splits=5.\n",
            "  UserWarning,\n"
          ]
        },
        {
          "output_type": "stream",
          "name": "stdout",
          "text": [
            "The best performing n_estimators value is:    70\n",
            "The best performing max_features value is:     1\n"
          ]
        }
      ]
    },
    {
      "cell_type": "markdown",
      "metadata": {
        "id": "RX8tQwbN40-O"
      },
      "source": [
        "On a trouvé les meilleurs hyperparametres donc on va pouvoir lancer l'apprentissage puis on va faire des tests sur les données.\n",
        "##Apprentissage optimal avec les nouveaux hyperparametres\n",
        "\n",
        "### L'algorithme RandomForestClassifier"
      ]
    },
    {
      "cell_type": "code",
      "metadata": {
        "id": "J88TKDaF4k81",
        "outputId": "f71efba8-8ab9-4092-ba3e-e992517880b6",
        "colab": {
          "base_uri": "https://localhost:8080/"
        }
      },
      "source": [
        "# Train classifier using optimal hyperparameter values\n",
        "# We could have also gotten this model out from randomCV.best_estimator_\n",
        "rfc2 = RandomForestClassifier(n_estimators=best_n_estim,\n",
        "                            max_features=best_max_features)\n",
        "\n",
        "rfc2.fit(X_train, y_train)\n",
        "rfc2_predictions = rfc2.predict(X_test)\n",
        "\n",
        "print (metrics.classification_report(y_test, rfc2_predictions))\n",
        "\n",
        "print (\"Overall Accuracy optimal:\", round(metrics.accuracy_score(y_test, rfc2_predictions), 3))\n",
        "print(\"Overall Accuracy par defaut :\",rfc_defaut)"
      ],
      "execution_count": null,
      "outputs": [
        {
          "output_type": "stream",
          "name": "stdout",
          "text": [
            "              precision    recall  f1-score   support\n",
            "\n",
            "           3       0.00      0.00      0.00         6\n",
            "           4       0.67      0.05      0.09        43\n",
            "           5       0.67      0.73      0.70       402\n",
            "           6       0.66      0.77      0.71       597\n",
            "           7       0.74      0.50      0.60       215\n",
            "           8       1.00      0.28      0.43        36\n",
            "           9       0.00      0.00      0.00         1\n",
            "\n",
            "    accuracy                           0.67      1300\n",
            "   macro avg       0.53      0.33      0.36      1300\n",
            "weighted avg       0.68      0.67      0.66      1300\n",
            "\n",
            "Overall Accuracy optimal: 0.673\n",
            "Overall Accuracy par defaut : 0.669\n"
          ]
        },
        {
          "output_type": "stream",
          "name": "stderr",
          "text": [
            "/usr/local/lib/python3.7/dist-packages/sklearn/metrics/_classification.py:1318: UndefinedMetricWarning: Precision and F-score are ill-defined and being set to 0.0 in labels with no predicted samples. Use `zero_division` parameter to control this behavior.\n",
            "  _warn_prf(average, modifier, msg_start, len(result))\n",
            "/usr/local/lib/python3.7/dist-packages/sklearn/metrics/_classification.py:1318: UndefinedMetricWarning: Precision and F-score are ill-defined and being set to 0.0 in labels with no predicted samples. Use `zero_division` parameter to control this behavior.\n",
            "  _warn_prf(average, modifier, msg_start, len(result))\n",
            "/usr/local/lib/python3.7/dist-packages/sklearn/metrics/_classification.py:1318: UndefinedMetricWarning: Precision and F-score are ill-defined and being set to 0.0 in labels with no predicted samples. Use `zero_division` parameter to control this behavior.\n",
            "  _warn_prf(average, modifier, msg_start, len(result))\n"
          ]
        }
      ]
    },
    {
      "cell_type": "markdown",
      "metadata": {
        "id": "4VhQR8W15DoA"
      },
      "source": [
        "On voit qu'il y a eu une amélioration de la précison avec les nouveau hyperparametres. Cependant nous avons encore une trop grande imprécison pour noter les vins surtout à cause des vins noté 9 ou nous avons que 5 echantillions sur les 6400 vins."
      ]
    },
    {
      "cell_type": "code",
      "metadata": {
        "id": "xL5EUXdi5DBB",
        "outputId": "8ef468ed-9f3f-4d12-c222-1a6c8b15053e",
        "colab": {
          "base_uri": "https://localhost:8080/"
        }
      },
      "source": [
        "\n",
        "#converting the numpy array to list\n",
        "xRF=np.array(rfc2_predictions).tolist()\n",
        "\n",
        "#printing first 5 predictions\n",
        "print(\"\\nLa prediction pour random Forest:\\n\")\n",
        "\n",
        "for i in range(0,5):\n",
        "  print (xRF[i])\n",
        "    \n",
        "    \n",
        "\n",
        "#printing first five expectations\n",
        "print(\"\\nLes observations pour random Forest:\\n\")\n",
        "print (y_test.head())"
      ],
      "execution_count": null,
      "outputs": [
        {
          "output_type": "stream",
          "name": "stdout",
          "text": [
            "\n",
            "La prediction pour random Forest:\n",
            "\n",
            "6\n",
            "5\n",
            "7\n",
            "5\n",
            "5\n",
            "\n",
            "Les observations pour random Forest:\n",
            "\n",
            "1504    8\n",
            "1419    5\n",
            "3162    7\n",
            "3091    6\n",
            "2433    6\n",
            "Name: quality, dtype: int64\n"
          ]
        }
      ]
    },
    {
      "cell_type": "markdown",
      "metadata": {
        "id": "eght21QT5EIQ"
      },
      "source": [
        "On remarque que les notes prédites ne sont pas très fiables.\n",
        "\n",
        "\n",
        "\n",
        "Maintenant, on va faire un test sur l'algorithme SVM afin de voir si on peut améliorer la précision de la prédiction.\n",
        "## L'algorithme SVM\n"
      ]
    },
    {
      "cell_type": "code",
      "metadata": {
        "id": "70bteiJp5DRB",
        "outputId": "4d69ebeb-b8e4-4baa-a7a8-7dcc38460408",
        "colab": {
          "base_uri": "https://localhost:8080/"
        }
      },
      "source": [
        "# Designate distributions to sample hyperparameters from\n",
        "np.random.seed(123)\n",
        "g_range = np.random.uniform(0.0, 0.3, 5).astype(float)\n",
        "C_range = np.random.normal(1, 0.1, 5).astype(float)\n",
        "\n",
        "# Check that gamma>0 and C>0\n",
        "C_range[C_range < 0] = 0.0001\n",
        "\n",
        "hyperparameters = {'gamma': list(g_range),\n",
        "                    'C': list(C_range)}\n",
        "\n",
        "print (hyperparameters)"
      ],
      "execution_count": null,
      "outputs": [
        {
          "output_type": "stream",
          "name": "stdout",
          "text": [
            "{'gamma': [0.2089407556793585, 0.08584180048511383, 0.06805543606926093, 0.16539443072486737, 0.2158406909356689], 'C': [1.0322106068339623, 0.9948482279060615, 0.9795799035361106, 1.197934843277785, 0.8380699934963254]}\n"
          ]
        }
      ]
    },
    {
      "cell_type": "markdown",
      "metadata": {
        "id": "3x5PMvJx5h-a"
      },
      "source": [
        "## RandomizedSearchCV using cross-validation pour SVM\n",
        "\n",
        "On prendra l'algorithme SVM avec un noyau non linéaire pour cette prédiction et de type radial basis function car il est très populaire."
      ]
    },
    {
      "cell_type": "code",
      "metadata": {
        "id": "S2xq1mtO5EZg",
        "outputId": "e1d39334-8d22-416e-8bc4-ed25331e2606",
        "colab": {
          "base_uri": "https://localhost:8080/"
        }
      },
      "source": [
        "# Run randomized search\n",
        "randomCV = RandomizedSearchCV(SVC(kernel='rbf', ), param_distributions=hyperparameters, n_iter=20)\n",
        "randomCV.fit(X_train, y_train)\n",
        "\n",
        "# Identify optimal hyperparameter values\n",
        "best_gamma  = randomCV.best_params_['gamma']\n",
        "best_C      = randomCV.best_params_['C']\n",
        "\n",
        "print(\"The best performing gamma value is: {:5.2f}\".format(best_gamma))\n",
        "print(\"The best performing C value is: {:5.2f}\".format(best_C))"
      ],
      "execution_count": null,
      "outputs": [
        {
          "output_type": "stream",
          "name": "stderr",
          "text": [
            "/usr/local/lib/python3.7/dist-packages/sklearn/model_selection/_split.py:680: UserWarning: The least populated class in y has only 4 members, which is less than n_splits=5.\n",
            "  UserWarning,\n"
          ]
        },
        {
          "output_type": "stream",
          "name": "stdout",
          "text": [
            "The best performing gamma value is:  0.17\n",
            "The best performing C value is:  1.20\n"
          ]
        }
      ]
    },
    {
      "cell_type": "markdown",
      "metadata": {
        "id": "vs0FwMg25iS5"
      },
      "source": [
        "##Apprentissage optimal avec les nouveaux hyperparametres\n",
        "\n",
        "*L'algorithme SVM*"
      ]
    },
    {
      "cell_type": "code",
      "metadata": {
        "id": "u-E8_WoN51dh",
        "outputId": "7accf986-95a3-47b9-900c-248cebc56571",
        "colab": {
          "base_uri": "https://localhost:8080/"
        }
      },
      "source": [
        "# Train SVM and output predictions\n",
        "rbfSVM = SVC(kernel='rbf', C=best_C, gamma=best_gamma)\n",
        "rbfSVM.fit(X_train, y_train)\n",
        "svm_predictions = rbfSVM.predict(X_test)\n",
        "\n",
        "print(metrics.classification_report(y_test, svm_predictions))\n",
        "\n",
        "print(\"Overall Accuracy optimise:\", round(metrics.accuracy_score(y_test, svm_predictions),1))\n",
        "print(\" Overall Accuracy par defaut: \",svc_defaut)\n"
      ],
      "execution_count": null,
      "outputs": [
        {
          "output_type": "stream",
          "name": "stdout",
          "text": [
            "              precision    recall  f1-score   support\n",
            "\n",
            "           3       0.00      0.00      0.00         6\n",
            "           4       0.50      0.02      0.04        43\n",
            "           5       0.58      0.66      0.62       402\n",
            "           6       0.56      0.70      0.62       597\n",
            "           7       0.58      0.22      0.32       215\n",
            "           8       0.00      0.00      0.00        36\n",
            "           9       0.00      0.00      0.00         1\n",
            "\n",
            "    accuracy                           0.57      1300\n",
            "   macro avg       0.32      0.23      0.23      1300\n",
            "weighted avg       0.55      0.57      0.53      1300\n",
            "\n",
            "Overall Accuracy optimise: 0.6\n",
            " Overall Accuracy par defaut:  0.562\n"
          ]
        },
        {
          "output_type": "stream",
          "name": "stderr",
          "text": [
            "/usr/local/lib/python3.7/dist-packages/sklearn/metrics/_classification.py:1318: UndefinedMetricWarning: Precision and F-score are ill-defined and being set to 0.0 in labels with no predicted samples. Use `zero_division` parameter to control this behavior.\n",
            "  _warn_prf(average, modifier, msg_start, len(result))\n",
            "/usr/local/lib/python3.7/dist-packages/sklearn/metrics/_classification.py:1318: UndefinedMetricWarning: Precision and F-score are ill-defined and being set to 0.0 in labels with no predicted samples. Use `zero_division` parameter to control this behavior.\n",
            "  _warn_prf(average, modifier, msg_start, len(result))\n",
            "/usr/local/lib/python3.7/dist-packages/sklearn/metrics/_classification.py:1318: UndefinedMetricWarning: Precision and F-score are ill-defined and being set to 0.0 in labels with no predicted samples. Use `zero_division` parameter to control this behavior.\n",
            "  _warn_prf(average, modifier, msg_start, len(result))\n"
          ]
        }
      ]
    },
    {
      "cell_type": "markdown",
      "metadata": {
        "id": "rimlQrvR52NB"
      },
      "source": [
        "On remarque que la précision à augmenter mais pas suffisament par rapport à l'algorithme forets aléatoires.\n",
        "\n",
        "On vérifie avec quelques notes de vins pour l'algorithme SVM"
      ]
    },
    {
      "cell_type": "code",
      "metadata": {
        "id": "C4ntbZWi51ta",
        "outputId": "78b383b5-a257-494d-f30d-14b20ee9d5a5",
        "colab": {
          "base_uri": "https://localhost:8080/"
        }
      },
      "source": [
        "#converting the numpy array to list\n",
        "x=np.array(svm_predictions).tolist()\n",
        "\n",
        "#printing first 5 predictions\n",
        "print(\"\\nThe prediction SVM:\\n\")\n",
        "for i in range(0,5):\n",
        "    print (x[i])"
      ],
      "execution_count": null,
      "outputs": [
        {
          "output_type": "stream",
          "name": "stdout",
          "text": [
            "\n",
            "The prediction SVM:\n",
            "\n",
            "6\n",
            "5\n",
            "7\n",
            "5\n",
            "5\n"
          ]
        }
      ]
    },
    {
      "cell_type": "code",
      "metadata": {
        "id": "OgfM6cX6517Z",
        "outputId": "fe47fc0b-ed3d-4d57-f5d9-521e12e4b6cd",
        "colab": {
          "base_uri": "https://localhost:8080/"
        }
      },
      "source": [
        "#printing first five expectations\n",
        "print(\"\\nThe expectation SVM:\\n\")\n",
        "print(y_test.head())"
      ],
      "execution_count": null,
      "outputs": [
        {
          "output_type": "stream",
          "name": "stdout",
          "text": [
            "\n",
            "The expectation SVM:\n",
            "\n",
            "1504    8\n",
            "1419    5\n",
            "3162    7\n",
            "3091    6\n",
            "2433    6\n",
            "Name: quality, dtype: int64\n"
          ]
        }
      ]
    },
    {
      "cell_type": "markdown",
      "source": [
        "# Regression"
      ],
      "metadata": {
        "id": "y4XLjDT5iKnz"
      }
    },
    {
      "cell_type": "markdown",
      "source": [
        "## Linear Regression"
      ],
      "metadata": {
        "id": "za-GFeIwiQPD"
      }
    },
    {
      "cell_type": "code",
      "source": [
        "from sklearn.linear_model import LinearRegression\n",
        "lm = LinearRegression()\n",
        "lm.fit(X_train,y_train)\n",
        "\n",
        "print(lm.intercept_)\n",
        "predictions = lm.predict(X_test)\n"
      ],
      "metadata": {
        "colab": {
          "base_uri": "https://localhost:8080/"
        },
        "id": "OCOW0rN5iKDD",
        "outputId": "481311b4-1cd8-4a20-9f15-8ee28f1ba542"
      },
      "execution_count": null,
      "outputs": [
        {
          "output_type": "stream",
          "name": "stdout",
          "text": [
            "5.814508370213581\n"
          ]
        }
      ]
    },
    {
      "cell_type": "code",
      "source": [
        "from sklearn import metrics\n",
        "print('MAE:', metrics.mean_absolute_error(y_test, predictions))\n",
        "print('MSE:', metrics.mean_squared_error(y_test, predictions))\n",
        "print('RMSE:', np.sqrt(metrics.mean_squared_error(y_test, predictions)))"
      ],
      "metadata": {
        "colab": {
          "base_uri": "https://localhost:8080/"
        },
        "id": "oIDrIAaDfaOy",
        "outputId": "093a0666-93aa-4102-8219-cce479276f5d"
      },
      "execution_count": null,
      "outputs": [
        {
          "output_type": "stream",
          "name": "stdout",
          "text": [
            "MAE: 0.5658453542264533\n",
            "MSE: 0.5453630356691126\n",
            "RMSE: 0.7384869908597663\n"
          ]
        }
      ]
    },
    {
      "cell_type": "markdown",
      "source": [
        "## Random Forest Regression"
      ],
      "metadata": {
        "id": "130P2pZAll2j"
      }
    },
    {
      "cell_type": "code",
      "source": [
        "from sklearn.ensemble import RandomForestRegressor\n",
        "forest = RandomForestRegressor(random_state=17)\n",
        "forest.fit(X_train,y_train)\n",
        "\n",
        "\n",
        "\n",
        "predictions = forest.predict(X_test)"
      ],
      "metadata": {
        "id": "K88nsO8qlrUw"
      },
      "execution_count": null,
      "outputs": []
    },
    {
      "cell_type": "code",
      "source": [
        "print('MAE:', metrics.mean_absolute_error(y_test, predictions))\n",
        "print('MSE:', metrics.mean_squared_error(y_test, predictions))\n",
        "print('RMSE:', np.sqrt(metrics.mean_squared_error(y_test, predictions)))"
      ],
      "metadata": {
        "colab": {
          "base_uri": "https://localhost:8080/"
        },
        "id": "RjGE_3Rxl9qr",
        "outputId": "4cb0ffe3-c0f3-4597-97f3-32dcd7bd944b"
      },
      "execution_count": null,
      "outputs": [
        {
          "output_type": "stream",
          "name": "stdout",
          "text": [
            "MAE: 0.4726692307692308\n",
            "MSE: 0.4032120769230769\n",
            "RMSE: 0.6349898242673475\n"
          ]
        }
      ]
    },
    {
      "cell_type": "code",
      "source": [
        "forest_params = {'max_depth': list(range(10, 25)), \n",
        "                  'max_features': list(range(6,12))}\n",
        "\n",
        "locally_best_forest = GridSearchCV(RandomForestRegressor(n_jobs=-1, random_state=17), \n",
        "                                 forest_params, \n",
        "                                 scoring='neg_mean_squared_error',  \n",
        "                                 n_jobs=-1, cv=5,\n",
        "                                  verbose=True)\n",
        "locally_best_forest.fit(X_train,y_train)"
      ],
      "metadata": {
        "colab": {
          "base_uri": "https://localhost:8080/"
        },
        "id": "HWHXu6ONmK3P",
        "outputId": "643e1e5f-43a7-42d1-b32e-22fb8955936a"
      },
      "execution_count": null,
      "outputs": [
        {
          "output_type": "stream",
          "name": "stdout",
          "text": [
            "Fitting 5 folds for each of 90 candidates, totalling 450 fits\n"
          ]
        },
        {
          "output_type": "execute_result",
          "data": {
            "text/plain": [
              "GridSearchCV(cv=5, estimator=RandomForestRegressor(n_jobs=-1, random_state=17),\n",
              "             n_jobs=-1,\n",
              "             param_grid={'max_depth': [10, 11, 12, 13, 14, 15, 16, 17, 18, 19,\n",
              "                                       20, 21, 22, 23, 24],\n",
              "                         'max_features': [6, 7, 8, 9, 10, 11]},\n",
              "             scoring='neg_mean_squared_error', verbose=True)"
            ]
          },
          "metadata": {},
          "execution_count": 39
        }
      ]
    },
    {
      "cell_type": "code",
      "source": [
        "locally_best_forest.best_params_, locally_best_forest.best_score_"
      ],
      "metadata": {
        "colab": {
          "base_uri": "https://localhost:8080/"
        },
        "id": "JtbBE8BKmVjR",
        "outputId": "bdc4bc92-62f6-41b7-936d-74691dc03030"
      },
      "execution_count": null,
      "outputs": [
        {
          "output_type": "execute_result",
          "data": {
            "text/plain": [
              "({'max_depth': 22, 'max_features': 6}, -0.3740921939380416)"
            ]
          },
          "metadata": {},
          "execution_count": 40
        }
      ]
    },
    {
      "cell_type": "code",
      "source": [
        "predictions = locally_best_forest.predict(X_test)\n",
        "\n",
        "print('MAE:', metrics.mean_absolute_error(y_test, predictions))\n",
        "print('MSE:', metrics.mean_squared_error(y_test, predictions))\n",
        "print('RMSE:', np.sqrt(metrics.mean_squared_error(y_test, predictions)))"
      ],
      "metadata": {
        "colab": {
          "base_uri": "https://localhost:8080/"
        },
        "id": "R-tVe24emWIM",
        "outputId": "bbf85ae8-9ca3-454a-83e9-6c7959996fec"
      },
      "execution_count": null,
      "outputs": [
        {
          "output_type": "stream",
          "name": "stdout",
          "text": [
            "MAE: 0.46688090712390906\n",
            "MSE: 0.3920974585331478\n",
            "RMSE: 0.6261768588291552\n"
          ]
        }
      ]
    },
    {
      "cell_type": "code",
      "source": [
        "data1 = vins.drop(['color'], axis = 1)"
      ],
      "metadata": {
        "id": "KztJjoknrSvf"
      },
      "execution_count": null,
      "outputs": []
    },
    {
      "cell_type": "code",
      "source": [
        "rf_importance = pd.DataFrame(locally_best_forest.best_estimator_.feature_importances_, columns=['coef'], index=data1.columns[:-1]) \n",
        "rf_importance.sort_values(by='coef', ascending=False)"
      ],
      "metadata": {
        "colab": {
          "base_uri": "https://localhost:8080/",
          "height": 394
        },
        "id": "Te3liFE4mg-P",
        "outputId": "7558fb6b-2032-454b-f130-b1d2a985df79"
      },
      "execution_count": null,
      "outputs": [
        {
          "output_type": "execute_result",
          "data": {
            "text/plain": [
              "                          coef\n",
              "alcohol               0.220228\n",
              "volatile acidity      0.122412\n",
              "free sulfur dioxide   0.088146\n",
              "density               0.087295\n",
              "sulphates             0.074910\n",
              "total sulfur dioxide  0.073540\n",
              "chlorides             0.071706\n",
              "residual sugar        0.070474\n",
              "pH                    0.069157\n",
              "citric acid           0.064178\n",
              "fixed acidity         0.057955"
            ],
            "text/html": [
              "\n",
              "  <div id=\"df-8f39b618-fd73-4db9-86d7-0c7d9fddf94b\">\n",
              "    <div class=\"colab-df-container\">\n",
              "      <div>\n",
              "<style scoped>\n",
              "    .dataframe tbody tr th:only-of-type {\n",
              "        vertical-align: middle;\n",
              "    }\n",
              "\n",
              "    .dataframe tbody tr th {\n",
              "        vertical-align: top;\n",
              "    }\n",
              "\n",
              "    .dataframe thead th {\n",
              "        text-align: right;\n",
              "    }\n",
              "</style>\n",
              "<table border=\"1\" class=\"dataframe\">\n",
              "  <thead>\n",
              "    <tr style=\"text-align: right;\">\n",
              "      <th></th>\n",
              "      <th>coef</th>\n",
              "    </tr>\n",
              "  </thead>\n",
              "  <tbody>\n",
              "    <tr>\n",
              "      <th>alcohol</th>\n",
              "      <td>0.220228</td>\n",
              "    </tr>\n",
              "    <tr>\n",
              "      <th>volatile acidity</th>\n",
              "      <td>0.122412</td>\n",
              "    </tr>\n",
              "    <tr>\n",
              "      <th>free sulfur dioxide</th>\n",
              "      <td>0.088146</td>\n",
              "    </tr>\n",
              "    <tr>\n",
              "      <th>density</th>\n",
              "      <td>0.087295</td>\n",
              "    </tr>\n",
              "    <tr>\n",
              "      <th>sulphates</th>\n",
              "      <td>0.074910</td>\n",
              "    </tr>\n",
              "    <tr>\n",
              "      <th>total sulfur dioxide</th>\n",
              "      <td>0.073540</td>\n",
              "    </tr>\n",
              "    <tr>\n",
              "      <th>chlorides</th>\n",
              "      <td>0.071706</td>\n",
              "    </tr>\n",
              "    <tr>\n",
              "      <th>residual sugar</th>\n",
              "      <td>0.070474</td>\n",
              "    </tr>\n",
              "    <tr>\n",
              "      <th>pH</th>\n",
              "      <td>0.069157</td>\n",
              "    </tr>\n",
              "    <tr>\n",
              "      <th>citric acid</th>\n",
              "      <td>0.064178</td>\n",
              "    </tr>\n",
              "    <tr>\n",
              "      <th>fixed acidity</th>\n",
              "      <td>0.057955</td>\n",
              "    </tr>\n",
              "  </tbody>\n",
              "</table>\n",
              "</div>\n",
              "      <button class=\"colab-df-convert\" onclick=\"convertToInteractive('df-8f39b618-fd73-4db9-86d7-0c7d9fddf94b')\"\n",
              "              title=\"Convert this dataframe to an interactive table.\"\n",
              "              style=\"display:none;\">\n",
              "        \n",
              "  <svg xmlns=\"http://www.w3.org/2000/svg\" height=\"24px\"viewBox=\"0 0 24 24\"\n",
              "       width=\"24px\">\n",
              "    <path d=\"M0 0h24v24H0V0z\" fill=\"none\"/>\n",
              "    <path d=\"M18.56 5.44l.94 2.06.94-2.06 2.06-.94-2.06-.94-.94-2.06-.94 2.06-2.06.94zm-11 1L8.5 8.5l.94-2.06 2.06-.94-2.06-.94L8.5 2.5l-.94 2.06-2.06.94zm10 10l.94 2.06.94-2.06 2.06-.94-2.06-.94-.94-2.06-.94 2.06-2.06.94z\"/><path d=\"M17.41 7.96l-1.37-1.37c-.4-.4-.92-.59-1.43-.59-.52 0-1.04.2-1.43.59L10.3 9.45l-7.72 7.72c-.78.78-.78 2.05 0 2.83L4 21.41c.39.39.9.59 1.41.59.51 0 1.02-.2 1.41-.59l7.78-7.78 2.81-2.81c.8-.78.8-2.07 0-2.86zM5.41 20L4 18.59l7.72-7.72 1.47 1.35L5.41 20z\"/>\n",
              "  </svg>\n",
              "      </button>\n",
              "      \n",
              "  <style>\n",
              "    .colab-df-container {\n",
              "      display:flex;\n",
              "      flex-wrap:wrap;\n",
              "      gap: 12px;\n",
              "    }\n",
              "\n",
              "    .colab-df-convert {\n",
              "      background-color: #E8F0FE;\n",
              "      border: none;\n",
              "      border-radius: 50%;\n",
              "      cursor: pointer;\n",
              "      display: none;\n",
              "      fill: #1967D2;\n",
              "      height: 32px;\n",
              "      padding: 0 0 0 0;\n",
              "      width: 32px;\n",
              "    }\n",
              "\n",
              "    .colab-df-convert:hover {\n",
              "      background-color: #E2EBFA;\n",
              "      box-shadow: 0px 1px 2px rgba(60, 64, 67, 0.3), 0px 1px 3px 1px rgba(60, 64, 67, 0.15);\n",
              "      fill: #174EA6;\n",
              "    }\n",
              "\n",
              "    [theme=dark] .colab-df-convert {\n",
              "      background-color: #3B4455;\n",
              "      fill: #D2E3FC;\n",
              "    }\n",
              "\n",
              "    [theme=dark] .colab-df-convert:hover {\n",
              "      background-color: #434B5C;\n",
              "      box-shadow: 0px 1px 3px 1px rgba(0, 0, 0, 0.15);\n",
              "      filter: drop-shadow(0px 1px 2px rgba(0, 0, 0, 0.3));\n",
              "      fill: #FFFFFF;\n",
              "    }\n",
              "  </style>\n",
              "\n",
              "      <script>\n",
              "        const buttonEl =\n",
              "          document.querySelector('#df-8f39b618-fd73-4db9-86d7-0c7d9fddf94b button.colab-df-convert');\n",
              "        buttonEl.style.display =\n",
              "          google.colab.kernel.accessAllowed ? 'block' : 'none';\n",
              "\n",
              "        async function convertToInteractive(key) {\n",
              "          const element = document.querySelector('#df-8f39b618-fd73-4db9-86d7-0c7d9fddf94b');\n",
              "          const dataTable =\n",
              "            await google.colab.kernel.invokeFunction('convertToInteractive',\n",
              "                                                     [key], {});\n",
              "          if (!dataTable) return;\n",
              "\n",
              "          const docLinkHtml = 'Like what you see? Visit the ' +\n",
              "            '<a target=\"_blank\" href=https://colab.research.google.com/notebooks/data_table.ipynb>data table notebook</a>'\n",
              "            + ' to learn more about interactive tables.';\n",
              "          element.innerHTML = '';\n",
              "          dataTable['output_type'] = 'display_data';\n",
              "          await google.colab.output.renderOutput(dataTable, element);\n",
              "          const docLink = document.createElement('div');\n",
              "          docLink.innerHTML = docLinkHtml;\n",
              "          element.appendChild(docLink);\n",
              "        }\n",
              "      </script>\n",
              "    </div>\n",
              "  </div>\n",
              "  "
            ]
          },
          "metadata": {},
          "execution_count": 59
        }
      ]
    },
    {
      "cell_type": "markdown",
      "source": [
        "## XGBoost regression"
      ],
      "metadata": {
        "id": "YycZRroBuKML"
      }
    },
    {
      "cell_type": "code",
      "source": [
        "import xgboost as xgb\n",
        "from sklearn.model_selection import GridSearchCV\n",
        "\n",
        "\n",
        "regressor=xgb.XGBRegressor(eval_metric='rmse')\n",
        "# set up our search grid\n",
        "param_grid = {\"max_depth\":    [4, 5],\n",
        "              \"n_estimators\": [500, 600, 700],\n",
        "              \"learning_rate\": [0.01, 0.015]}\n",
        "\n",
        "# try out every combination of the above values\n",
        "search = GridSearchCV(regressor, param_grid, cv=5).fit(X_train, y_train)\n",
        "\n",
        "print(\"The best hyperparameters are \",search.best_params_)\n",
        "\n",
        "regressor=xgb.XGBRegressor(learning_rate = search.best_params_[\"learning_rate\"],\n",
        "                           n_estimators  = search.best_params_[\"n_estimators\"],\n",
        "                           max_depth     = search.best_params_[\"max_depth\"],)\n",
        "\n",
        "regressor.fit(X_train, y_train)\n",
        "predictions = regressor.predict(X_test)"
      ],
      "metadata": {
        "colab": {
          "base_uri": "https://localhost:8080/"
        },
        "id": "mlpCMw5NuNjD",
        "outputId": "c461ce50-c180-4c06-f98e-b200dbe73b57"
      },
      "execution_count": null,
      "outputs": [
        {
          "output_type": "stream",
          "name": "stdout",
          "text": [
            "[22:22:24] WARNING: /workspace/src/objective/regression_obj.cu:152: reg:linear is now deprecated in favor of reg:squarederror.\n",
            "[22:22:25] WARNING: /workspace/src/objective/regression_obj.cu:152: reg:linear is now deprecated in favor of reg:squarederror.\n",
            "[22:22:26] WARNING: /workspace/src/objective/regression_obj.cu:152: reg:linear is now deprecated in favor of reg:squarederror.\n",
            "[22:22:28] WARNING: /workspace/src/objective/regression_obj.cu:152: reg:linear is now deprecated in favor of reg:squarederror.\n",
            "[22:22:29] WARNING: /workspace/src/objective/regression_obj.cu:152: reg:linear is now deprecated in favor of reg:squarederror.\n",
            "[22:22:30] WARNING: /workspace/src/objective/regression_obj.cu:152: reg:linear is now deprecated in favor of reg:squarederror.\n",
            "[22:22:33] WARNING: /workspace/src/objective/regression_obj.cu:152: reg:linear is now deprecated in favor of reg:squarederror.\n",
            "[22:22:34] WARNING: /workspace/src/objective/regression_obj.cu:152: reg:linear is now deprecated in favor of reg:squarederror.\n",
            "[22:22:36] WARNING: /workspace/src/objective/regression_obj.cu:152: reg:linear is now deprecated in favor of reg:squarederror.\n",
            "[22:22:37] WARNING: /workspace/src/objective/regression_obj.cu:152: reg:linear is now deprecated in favor of reg:squarederror.\n",
            "[22:22:39] WARNING: /workspace/src/objective/regression_obj.cu:152: reg:linear is now deprecated in favor of reg:squarederror.\n",
            "[22:22:41] WARNING: /workspace/src/objective/regression_obj.cu:152: reg:linear is now deprecated in favor of reg:squarederror.\n",
            "[22:22:43] WARNING: /workspace/src/objective/regression_obj.cu:152: reg:linear is now deprecated in favor of reg:squarederror.\n",
            "[22:22:44] WARNING: /workspace/src/objective/regression_obj.cu:152: reg:linear is now deprecated in favor of reg:squarederror.\n",
            "[22:22:46] WARNING: /workspace/src/objective/regression_obj.cu:152: reg:linear is now deprecated in favor of reg:squarederror.\n",
            "[22:22:48] WARNING: /workspace/src/objective/regression_obj.cu:152: reg:linear is now deprecated in favor of reg:squarederror.\n",
            "[22:22:50] WARNING: /workspace/src/objective/regression_obj.cu:152: reg:linear is now deprecated in favor of reg:squarederror.\n",
            "[22:22:51] WARNING: /workspace/src/objective/regression_obj.cu:152: reg:linear is now deprecated in favor of reg:squarederror.\n",
            "[22:22:53] WARNING: /workspace/src/objective/regression_obj.cu:152: reg:linear is now deprecated in favor of reg:squarederror.\n",
            "[22:22:55] WARNING: /workspace/src/objective/regression_obj.cu:152: reg:linear is now deprecated in favor of reg:squarederror.\n",
            "[22:22:56] WARNING: /workspace/src/objective/regression_obj.cu:152: reg:linear is now deprecated in favor of reg:squarederror.\n",
            "[22:23:00] WARNING: /workspace/src/objective/regression_obj.cu:152: reg:linear is now deprecated in favor of reg:squarederror.\n",
            "[22:23:03] WARNING: /workspace/src/objective/regression_obj.cu:152: reg:linear is now deprecated in favor of reg:squarederror.\n",
            "[22:23:05] WARNING: /workspace/src/objective/regression_obj.cu:152: reg:linear is now deprecated in favor of reg:squarederror.\n",
            "[22:23:07] WARNING: /workspace/src/objective/regression_obj.cu:152: reg:linear is now deprecated in favor of reg:squarederror.\n",
            "[22:23:09] WARNING: /workspace/src/objective/regression_obj.cu:152: reg:linear is now deprecated in favor of reg:squarederror.\n",
            "[22:23:11] WARNING: /workspace/src/objective/regression_obj.cu:152: reg:linear is now deprecated in favor of reg:squarederror.\n",
            "[22:23:14] WARNING: /workspace/src/objective/regression_obj.cu:152: reg:linear is now deprecated in favor of reg:squarederror.\n",
            "[22:23:16] WARNING: /workspace/src/objective/regression_obj.cu:152: reg:linear is now deprecated in favor of reg:squarederror.\n",
            "[22:23:18] WARNING: /workspace/src/objective/regression_obj.cu:152: reg:linear is now deprecated in favor of reg:squarederror.\n",
            "[22:23:21] WARNING: /workspace/src/objective/regression_obj.cu:152: reg:linear is now deprecated in favor of reg:squarederror.\n",
            "[22:23:22] WARNING: /workspace/src/objective/regression_obj.cu:152: reg:linear is now deprecated in favor of reg:squarederror.\n",
            "[22:23:23] WARNING: /workspace/src/objective/regression_obj.cu:152: reg:linear is now deprecated in favor of reg:squarederror.\n",
            "[22:23:24] WARNING: /workspace/src/objective/regression_obj.cu:152: reg:linear is now deprecated in favor of reg:squarederror.\n",
            "[22:23:26] WARNING: /workspace/src/objective/regression_obj.cu:152: reg:linear is now deprecated in favor of reg:squarederror.\n",
            "[22:23:27] WARNING: /workspace/src/objective/regression_obj.cu:152: reg:linear is now deprecated in favor of reg:squarederror.\n",
            "[22:23:28] WARNING: /workspace/src/objective/regression_obj.cu:152: reg:linear is now deprecated in favor of reg:squarederror.\n",
            "[22:23:30] WARNING: /workspace/src/objective/regression_obj.cu:152: reg:linear is now deprecated in favor of reg:squarederror.\n",
            "[22:23:32] WARNING: /workspace/src/objective/regression_obj.cu:152: reg:linear is now deprecated in favor of reg:squarederror.\n",
            "[22:23:34] WARNING: /workspace/src/objective/regression_obj.cu:152: reg:linear is now deprecated in favor of reg:squarederror.\n",
            "[22:23:36] WARNING: /workspace/src/objective/regression_obj.cu:152: reg:linear is now deprecated in favor of reg:squarederror.\n",
            "[22:23:37] WARNING: /workspace/src/objective/regression_obj.cu:152: reg:linear is now deprecated in favor of reg:squarederror.\n",
            "[22:23:40] WARNING: /workspace/src/objective/regression_obj.cu:152: reg:linear is now deprecated in favor of reg:squarederror.\n",
            "[22:23:42] WARNING: /workspace/src/objective/regression_obj.cu:152: reg:linear is now deprecated in favor of reg:squarederror.\n",
            "[22:23:44] WARNING: /workspace/src/objective/regression_obj.cu:152: reg:linear is now deprecated in favor of reg:squarederror.\n",
            "[22:23:48] WARNING: /workspace/src/objective/regression_obj.cu:152: reg:linear is now deprecated in favor of reg:squarederror.\n",
            "[22:23:53] WARNING: /workspace/src/objective/regression_obj.cu:152: reg:linear is now deprecated in favor of reg:squarederror.\n",
            "[22:23:55] WARNING: /workspace/src/objective/regression_obj.cu:152: reg:linear is now deprecated in favor of reg:squarederror.\n",
            "[22:23:57] WARNING: /workspace/src/objective/regression_obj.cu:152: reg:linear is now deprecated in favor of reg:squarederror.\n",
            "[22:23:58] WARNING: /workspace/src/objective/regression_obj.cu:152: reg:linear is now deprecated in favor of reg:squarederror.\n",
            "[22:24:00] WARNING: /workspace/src/objective/regression_obj.cu:152: reg:linear is now deprecated in favor of reg:squarederror.\n",
            "[22:24:02] WARNING: /workspace/src/objective/regression_obj.cu:152: reg:linear is now deprecated in favor of reg:squarederror.\n",
            "[22:24:04] WARNING: /workspace/src/objective/regression_obj.cu:152: reg:linear is now deprecated in favor of reg:squarederror.\n",
            "[22:24:06] WARNING: /workspace/src/objective/regression_obj.cu:152: reg:linear is now deprecated in favor of reg:squarederror.\n",
            "[22:24:08] WARNING: /workspace/src/objective/regression_obj.cu:152: reg:linear is now deprecated in favor of reg:squarederror.\n",
            "[22:24:10] WARNING: /workspace/src/objective/regression_obj.cu:152: reg:linear is now deprecated in favor of reg:squarederror.\n",
            "[22:24:12] WARNING: /workspace/src/objective/regression_obj.cu:152: reg:linear is now deprecated in favor of reg:squarederror.\n",
            "[22:24:14] WARNING: /workspace/src/objective/regression_obj.cu:152: reg:linear is now deprecated in favor of reg:squarederror.\n",
            "[22:24:16] WARNING: /workspace/src/objective/regression_obj.cu:152: reg:linear is now deprecated in favor of reg:squarederror.\n",
            "[22:24:19] WARNING: /workspace/src/objective/regression_obj.cu:152: reg:linear is now deprecated in favor of reg:squarederror.\n",
            "[22:24:21] WARNING: /workspace/src/objective/regression_obj.cu:152: reg:linear is now deprecated in favor of reg:squarederror.\n",
            "The best hyperparameters are  {'learning_rate': 0.015, 'max_depth': 5, 'n_estimators': 700}\n",
            "[22:24:24] WARNING: /workspace/src/objective/regression_obj.cu:152: reg:linear is now deprecated in favor of reg:squarederror.\n"
          ]
        }
      ]
    },
    {
      "cell_type": "code",
      "source": [
        "print('MAE:', metrics.mean_absolute_error(y_test, predictions))\n",
        "print('MSE:', metrics.mean_squared_error(y_test, predictions))\n",
        "print('RMSE:', np.sqrt(metrics.mean_squared_error(y_test, predictions)))"
      ],
      "metadata": {
        "colab": {
          "base_uri": "https://localhost:8080/"
        },
        "id": "SIHyzoMEvJ79",
        "outputId": "4926a03e-9611-4c09-97c2-6b65687dc271"
      },
      "execution_count": null,
      "outputs": [
        {
          "output_type": "stream",
          "name": "stdout",
          "text": [
            "MAE: 0.5182693453935476\n",
            "MSE: 0.4429802770198673\n",
            "RMSE: 0.665567635195603\n"
          ]
        }
      ]
    },
    {
      "cell_type": "markdown",
      "metadata": {
        "id": "zJ4K4NfG6DQU"
      },
      "source": [
        "Pour 5 exemples, nous avons seulement 2 notes correctes Cependant avec plus d'exemples de vins notés on arrive à 57% pour l'algorithme SVM.\n",
        "\n",
        "# Conclusion\n",
        "\n",
        "\n",
        "Le meilleur algorithme pour prédire la note d'un vin pour ce jeu de données est l'algorithme Forets aléatoires. L'optimisation des hyperparametres a permis d'améliorer la precision mais pas de beaucoup.\n",
        "Ce projet a été très interéssant à réaliser car j'ai appliqué les méthodes vue en cours RCP208 et RCP209 et j'ai aussi utilisé des nouvelles bibliothèques comme Pandas. J'ai aussi utilisé R pour faire les analyse en composante principale qui est plus simple que sur python. Il serait aussi intéressant de faire une classification multi classe pour prédire la couleur du vin."
      ]
    }
  ]
}